{
 "cells": [
  {
   "cell_type": "code",
   "execution_count": 1,
   "metadata": {},
   "outputs": [
    {
     "ename": "ModuleNotFoundError",
     "evalue": "No module named 'yfinance'",
     "output_type": "error",
     "traceback": [
      "\u001b[0;31m---------------------------------------------------------------------------\u001b[0m",
      "\u001b[0;31mModuleNotFoundError\u001b[0m                       Traceback (most recent call last)",
      "\u001b[0;32m/var/folders/nj/ryd71zbj4rqcwx_n082bmwx80000gn/T/ipykernel_1848/3092916562.py\u001b[0m in \u001b[0;36m<module>\u001b[0;34m\u001b[0m\n\u001b[1;32m      1\u001b[0m \u001b[0;32mfrom\u001b[0m \u001b[0mtkinter\u001b[0m \u001b[0;32mimport\u001b[0m \u001b[0mY\u001b[0m\u001b[0;34m\u001b[0m\u001b[0;34m\u001b[0m\u001b[0m\n\u001b[1;32m      2\u001b[0m \u001b[0;32mimport\u001b[0m \u001b[0mpandas\u001b[0m \u001b[0;32mas\u001b[0m \u001b[0mpd\u001b[0m\u001b[0;34m\u001b[0m\u001b[0;34m\u001b[0m\u001b[0m\n\u001b[0;32m----> 3\u001b[0;31m \u001b[0;32mimport\u001b[0m \u001b[0myfinance\u001b[0m \u001b[0;32mas\u001b[0m \u001b[0myf\u001b[0m\u001b[0;34m\u001b[0m\u001b[0;34m\u001b[0m\u001b[0m\n\u001b[0m\u001b[1;32m      4\u001b[0m \u001b[0;32mfrom\u001b[0m \u001b[0mdatetime\u001b[0m \u001b[0;32mimport\u001b[0m \u001b[0mdatetime\u001b[0m\u001b[0;34m\u001b[0m\u001b[0;34m\u001b[0m\u001b[0m\n\u001b[1;32m      5\u001b[0m \u001b[0mtoday\u001b[0m\u001b[0;34m=\u001b[0m\u001b[0mdatetime\u001b[0m\u001b[0;34m.\u001b[0m\u001b[0mtoday\u001b[0m\u001b[0;34m(\u001b[0m\u001b[0;34m)\u001b[0m\u001b[0;34m\u001b[0m\u001b[0;34m\u001b[0m\u001b[0m\n",
      "\u001b[0;31mModuleNotFoundError\u001b[0m: No module named 'yfinance'"
     ]
    }
   ],
   "source": [
    "\n",
    "\n"
   ]
  },
  {
   "cell_type": "code",
   "execution_count": 17,
   "metadata": {},
   "outputs": [
    {
     "name": "stdout",
     "output_type": "stream",
     "text": [
      "Top 5 companies: \n",
      "PNB   0.0548\n",
      "IDEA   0.0587\n",
      "IDFCFIRSTB   0.0781\n",
      "NBCC   0.0822\n",
      "GMRINFRA   0.1052\n",
      "\n",
      "\n",
      "Worst 5 companies: \n",
      "MRF   180.5915\n",
      "HONAUT   90.6982\n",
      "PAGEIND   71.5142\n",
      "BOSCHLTD   68.8756\n",
      "NESTLEIND   35.6383\n",
      "SHREECEM   32.29\n",
      "COFORGE   23.5435\n",
      "BAJAJFINSV   23.1058\n",
      "ABBOTINDIA   22.8477\n",
      "NAVINFLUOR   18.0548\n"
     ]
    }
   ],
   "source": [
    "import yfinance as yf\n",
    "from datetime import datetime\n",
    "import pandas as pd\n",
    "\n",
    "res=list()\n",
    "stockN=[\"AARTIIND\",\"ABBOTINDIA\",\"ABCAPITAL\",\"ABFRL\",\"ACC\",\"ADANIENT\",\"ADANIPORTS\",\"ALKEM\",\"AMARAJABAT\",\"AMBUJACEM\",\"APLLTD\",\n",
    "\"APOLLOHOSP\",\n",
    "\"APOLLOTYRE\",\"ASHOKLEY\",\"ASIANPAINT\",\"ASTRAL\",\"ATUL\",\"AUBANK\",\"AUROPHARMA\",\"AXISBANK\",\"BAJAJ-AUTO\",\"BAJAJFINSV\",\"BAJFINANCE\",\n",
    "\"BALKRISIND\",\"BALRAMCHIN\",\"BANDHANBNK\",\"BANKBARODA\",\"BATAINDIA\",\"BEL\",\"BERGEPAINT\",\"BHARATFORG\",\"BHARTIARTL\",\"BHEL\",\"BIOCON\",\"BOSCHLTD\",\n",
    "\"BPCL\",\"BRITANNIA\",\"BSOFT\",\"ZYDUSLIFE\",\"CANBK\",\"CHAMBLFERT\",\"CHOLAFIN\",\"CIPLA\",\"COALINDIA\",\"COFORGE\",\"COLPAL\",\"CONCOR\",\"COROMANDEL\",\n",
    "\"CROMPTON\",\"CUB\",\"CUMMINSIND\",\"DABUR\",\"DALBHARAT\",\"DEEPAKNTR\",\"DELTACORP\",\"DIVISLAB\",\"DIXON\",\"DLF\",\"DRREDDY\",\"EICHERMOT\",\"ESCORTS\",\n",
    "\"EXIDEIND\",\"FEDERALBNK\",\"FSL\",\"GAIL\",\"GLENMARK\",\"GMRINFRA\",\"GNFC\",\"GODREJCP\",\"GODREJPROP\",\"GRANULES\",\"GRASIM\",\"GSPL\",\"GUJGASLTD\",\"HAL\",\n",
    "\"HAVELLS\",\"HCLTECH\",\"HDFC\",\"HDFCAMC\",\"HDFCBANK\",\"HDFCLIFE\",\"HEROMOTOCO\",\"HINDALCO\",\"HINDCOPPER\",\"HINDPETRO\",\"HINDUNILVR\",\"HONAUT\",\n",
    "\"IBULHSGFIN\",\"ICICIBANK\",\"ICICIGI\",\"ICICIPRULI\",\"IDEA\",\"IDFC\",\"IDFCFIRSTB\",\"IEX\",\"IGL\",\"INDHOTEL\",\"INDIACEM\",\"INDIAMART\",\"INDIGO\",\n",
    "\"INDUSINDBK\",\"INDUSTOWER\",\"INFY\",\"IOC\",\"IPCALAB\",\"IRCTC\",\"ITC\",\"JINDALSTEL\",\"JKCEMENT\",\"JSWSTEEL\",\"JUBLFOOD\",\"KOTAKBANK\",\"L&TFH\",\n",
    "\"LALPATHLAB\",\"LAURUSLABS\",\"LICHSGFIN\",\"LT\",\"LTI\",\"LTTS\",\"LUPIN\",\"M&M\",\"M&MFIN\",\"MANAPPURAM\",\"MARICO\",\"MARUTI\",\"MCDOWELL-N\",\"MCX\",\n",
    "\"METROPOLIS\",\"MFSL\",\"MGL\",\"MINDTREE\",\"MOTHERSUMI\",\"MPHASIS\",\"MRF\",\"MUTHOOTFIN\",\"NAM-INDIA\",\"NATIONALUM\",\"NAUKRI\",\"NAVINFLUOR\",\n",
    "\"NBCC\",\"NESTLEIND\",\"NMDC\",\"NTPC\",\"OBEROIRLTY\",\"OFSS\",\"ONGC\",\"PAGEIND\",\"PEL\",\"PERSISTENT\",\"PETRONET\",\"PFC\",\"PFIZER\",\"PIDILITIND\",\n",
    "\"PIIND\",\"PNB\",\"POLYCAB\",\"POWERGRID\",\"PVR\",\"RAIN\",\"RAMCOCEM\",\"RBLBANK\",\"RECLTD\",\"RELIANCE\",\"SAIL\",\"SBICARD\",\"SBILIFE\",\"SBIN\",\n",
    "\"SHREECEM\",\"SIEMENS\",\"SRF\",\"SRTRANSFIN\",\"STAR\",\"SUNPHARMA\",\"SUNTV\",\"SYNGENE\",\"TATACHEM\",\"TATACOMM\",\"TATACONSUM\",\"TATAMOTORS\",\n",
    "\"TATAPOWER\",\"TATASTEEL\",\"TCS\",\"TECHM\",\"TITAN\",\"TORNTPHARM\",\"TORNTPOWER\",\"TRENT\",\"TVSMOTOR\",\"UBL\",\"ULTRACEMCO\",\"UPL\",\"VEDL\",\n",
    "\"VOLTAS\",\"WHIRLPOOL\",\"WIPRO\",\"ZEEL\",\"ABB\",\"INTELLECT\"]\n",
    "names=stockN\n",
    "for i in stockN:\n",
    "  sum=0.0\n",
    "  df = pd.read_excel (r'demo.xlsx',i) #place \"r\" before the path string to address special character, such as '\\'. Don't forget to put the file name at the end of the path + '.xlsx'\n",
    "  # print (df)\n",
    "  # print(\"--------------------------\")\n",
    "  # total=df['Open'].sum\n",
    "  # res.append(total)\n",
    "\n",
    "  # for col in df.columns:\n",
    "  #   print(col)\n",
    "\n",
    "  # cols=['Open']\n",
    "  # df['sum_stats'] = df[cols].sum(axis=1)\n",
    "  total=df[\"Open\"].std()\n",
    "  total=round(total,4)\n",
    "  res.append(total)\n",
    "  # print(total/48)\n",
    "\n",
    "\n",
    "\n",
    "for j in range(len(res)):\n",
    "  for k in range(len(res)-1):\n",
    "    if(res[k]>res[k+1]):\n",
    "      res[k], res[k + 1] = res[k+ 1], res[k]\n",
    "      names[k],names[k+1] = names[k+1], names[k]\n",
    "\n",
    "print(\"Worst 5 companies: \")\n",
    "for j in range(0,5):\n",
    "  print(names[j],\" \",res[j])\n",
    "print(\"\\n\")\n",
    "names1=list()\n",
    "print(\"Top 5 companies: \")\n",
    "for j in range(len(names)-1,len(names)-6,-1):\n",
    "  print(names[j],\" \",res[j])\n",
    "  names1.append(names[j])\n",
    "\n",
    "\n",
    "\n",
    "# def top(list1):\n",
    "#   best=list()\n",
    "#   worst=list()\n",
    "#   for i in list1:\n",
    "#     data1=yf.download(tickers=i+'.NS',start=datetime(2022, 5, 24, 14, 25, 0),end=datetime(2022, 5, 24, 14, 26, 0),interval='1m')\n",
    "#     data1.drop(['High','Low','Adj Close','Close','Volume'],axis=1, inplace=True)\n",
    "#     data2 = yf.download(tickers=i+'.NS',start=datetime(2022, 5, 24, 15, 9, 0),end=datetime(2022, 5, 24, 15, 10, 0),interval='1m')\n",
    "#     data2.drop(['High','Low','Adj Close','Close','Volume'],axis=1, inplace=True)\n",
    "#     temp=data2-data1\n",
    "#     if(temp>0):\n",
    "#       best.append(i)\n",
    "#     else:\n",
    "#       worst.append(i)\n",
    "#   print(best)\n",
    "#   print(worst)  \n",
    "# top(names1)"
   ]
  }
 ],
 "metadata": {
  "kernelspec": {
   "display_name": "Python 3 (ipykernel)",
   "language": "python",
   "name": "python3"
  },
  "language_info": {
   "codemirror_mode": {
    "name": "ipython",
    "version": 3
   },
   "file_extension": ".py",
   "mimetype": "text/x-python",
   "name": "python",
   "nbconvert_exporter": "python",
   "pygments_lexer": "ipython3",
   "version": "3.10.2"
  },
  "vscode": {
   "interpreter": {
    "hash": "aee8b7b246df8f9039afb4144a1f6fd8d2ca17a180786b69acc140d282b71a49"
   }
  }
 },
 "nbformat": 4,
 "nbformat_minor": 2
}
